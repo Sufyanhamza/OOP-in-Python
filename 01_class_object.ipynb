{
  "cells": [
    {
      "cell_type": "code",
      "execution_count": 2,
      "metadata": {
        "id": "qKV4gTZA4BhF"
      },
      "outputs": [],
      "source": [
        "# pascal Case\n",
        "class Atm:\n",
        "    # Constructor (Special function)\n",
        "    def __init__(self):\n",
        "        print(id(self))\n",
        "        self.pin = ''\n",
        "        self.balance = 0\n",
        "        # self.menu()\n",
        "        # print(\"Constructor executed when we make an object\")\n",
        "\n",
        "    def menu(self):\n",
        "        user_input = input(\"\"\"\n",
        "        Hi how would you like to proceed?\n",
        "        1. Enter 1 to create pin\n",
        "        2. Enter 2 to change pin\n",
        "        3. Enter 3 to check balance\n",
        "        4. Enter 4 to withdraw\n",
        "        5. Enter 5 to exit\n",
        "        \"\"\")\n",
        "        if user_input == '1':\n",
        "            # Create pin\n",
        "            self.create_pin()\n",
        "        elif user_input == '2':\n",
        "            # Change pin\n",
        "            self.change_pin()\n",
        "        elif user_input == '3':\n",
        "            # Check balance\n",
        "            self.check_balance()\n",
        "\n",
        "        elif user_input == '4':\n",
        "            # Withdraw money\n",
        "            self.withdrawl()\n",
        "        else:\n",
        "            exit()\n",
        "\n",
        "    def create_pin(self):\n",
        "        user_pin = input('Enter your pin')\n",
        "        self.pin = user_pin\n",
        "\n",
        "        user_balance = int(input('Enter Balance'))\n",
        "        self.balance = user_balance\n",
        "\n",
        "        print('Pin Create successfully!')\n",
        "        self.menu()\n",
        "\n",
        "    def change_pin(self):\n",
        "        old_pin = input('Enter old pin')\n",
        "\n",
        "        if old_pin == self.pin:\n",
        "            # Let him change the pin\n",
        "            new_pin = input('Enter new pin')\n",
        "            self.pin = new_pin\n",
        "            print('Pin changed successfully')\n",
        "            self.menu()\n",
        "        else:\n",
        "            print('Invalid old pin')\n",
        "            self.menu()\n",
        "\n",
        "\n",
        "    def check_balance(self):\n",
        "        user_pin = input('Enter your pin')\n",
        "        if user_pin == self.pin:\n",
        "            print('Balance is {}'.format(self.balance))\n",
        "        else:\n",
        "            print('Invalid pin')\n",
        "\n",
        "    def withdrawl(self):\n",
        "        user_pin = input('Enter your pin')\n",
        "        if user_pin == self.pin:\n",
        "            # Allow to withdraw\n",
        "            amount = int(input('Enter the amount'))\n",
        "            if amount <= self.balance:\n",
        "                self.balance = self.balance - amount\n",
        "                print('Withdrawal Successful and Balance is {}'.format(self.balance))\n",
        "            else:\n",
        "                print('Insufficient Balance')\n",
        "        else:\n",
        "            print('Invalid pin')\n",
        "        self.menu()\n"
      ]
    },
    {
      "cell_type": "code",
      "execution_count": 3,
      "metadata": {
        "colab": {
          "base_uri": "https://localhost:8080/"
        },
        "id": "MTR9fwDx4Yzp",
        "outputId": "9fae356e-fa96-420a-a685-f86664372885"
      },
      "outputs": [
        {
          "name": "stdout",
          "output_type": "stream",
          "text": [
            "136173270514560\n"
          ]
        }
      ],
      "source": [
        "obj = Atm()"
      ]
    },
    {
      "cell_type": "code",
      "execution_count": 4,
      "metadata": {
        "colab": {
          "base_uri": "https://localhost:8080/"
        },
        "id": "Dl_VUwGJF9Pc",
        "outputId": "2b825b01-afa1-4d27-cc87-cf2083d769b6"
      },
      "outputs": [
        {
          "data": {
            "text/plain": [
              "136173270514560"
            ]
          },
          "execution_count": 4,
          "metadata": {},
          "output_type": "execute_result"
        }
      ],
      "source": [
        "id(obj)"
      ]
    },
    {
      "cell_type": "code",
      "execution_count": null,
      "metadata": {
        "id": "3B8CUiGH5CvJ"
      },
      "outputs": [],
      "source": [
        "L = [1,2,3,4]\n",
        "len(L)          # Function---> Because it is outside the list class\n",
        "L.append()      # Method-----> Because it is inside the list class"
      ]
    },
    {
      "cell_type": "code",
      "execution_count": 40,
      "metadata": {
        "id": "LZboCZHcK75U"
      },
      "outputs": [],
      "source": [
        "class Fraction():\n",
        "  # parameterized constructor\n",
        "  def __init__(self,x,y):\n",
        "    self.num = x\n",
        "    self.den = y\n",
        "\n",
        "  def __str__(self):\n",
        "    return \"{}/{}\".format(self.num,self.den)\n",
        "\n",
        "  def __add__(self,other):\n",
        "    new_num = self.num*other.den + other.num*self.den\n",
        "    new_den = self.den*other.den\n",
        "\n",
        "    return \"{}/{}\".format(new_num, new_den)\n",
        "\n",
        "\n",
        "  def __sub__(self,other):\n",
        "    new_num = self.num*other.den - other.num*self.den\n",
        "    new_den = self.den*other.den\n",
        "\n",
        "    return \"{}/{}\".format(new_num, new_den)\n",
        "\n",
        "  def __mul__(self,other):\n",
        "    new_num = self.num*other.num\n",
        "    new_den = self.den*other.den\n",
        "\n",
        "    return \"{}/{}\".format(new_num, new_den)\n",
        "\n",
        "  def __truediv__(self,other):\n",
        "    new_num = self.num*other.den\n",
        "    new_den = self.den*other.num\n",
        "\n",
        "    return \"{}/{}\".format(new_num, new_den)\n",
        "\n",
        "  def convert_to_decimal(self):\n",
        "    return self.num / self.den"
      ]
    },
    {
      "cell_type": "code",
      "execution_count": 41,
      "metadata": {
        "id": "eK8OCr1WOM08"
      },
      "outputs": [],
      "source": [
        "fr1 = Fraction(3,4)\n",
        "fr2 = Fraction(1,2)"
      ]
    },
    {
      "cell_type": "code",
      "execution_count": 43,
      "metadata": {
        "colab": {
          "base_uri": "https://localhost:8080/"
        },
        "id": "PZw0g-AWgkBU",
        "outputId": "4f60056c-9ee7-4e75-b29d-a2e51d6c3910"
      },
      "outputs": [
        {
          "data": {
            "text/plain": [
              "0.75"
            ]
          },
          "execution_count": 43,
          "metadata": {},
          "output_type": "execute_result"
        }
      ],
      "source": [
        "fr1.convert_to_decimal()"
      ]
    },
    {
      "cell_type": "code",
      "execution_count": 36,
      "metadata": {
        "colab": {
          "base_uri": "https://localhost:8080/"
        },
        "id": "DnOWesRacEry",
        "outputId": "2b31593e-3244-4fad-9ae7-05da5ebed45c"
      },
      "outputs": [
        {
          "name": "stdout",
          "output_type": "stream",
          "text": [
            "10/8\n",
            "2/8\n",
            "3/8\n",
            "6/4\n"
          ]
        }
      ],
      "source": [
        "print(fr1 + fr2)\n",
        "print(fr1 - fr2)\n",
        "print(fr1 * fr2)\n",
        "print(fr1 / fr2)"
      ]
    },
    {
      "cell_type": "code",
      "execution_count": 31,
      "metadata": {
        "colab": {
          "base_uri": "https://localhost:8080/"
        },
        "id": "fZomVxbbcr3o",
        "outputId": "55a9859b-f502-4aa0-bbb0-c0100db48cac"
      },
      "outputs": [
        {
          "name": "stdout",
          "output_type": "stream",
          "text": [
            "2/8\n"
          ]
        }
      ],
      "source": [
        "print(fr1 - fr2)"
      ]
    },
    {
      "cell_type": "code",
      "execution_count": 24,
      "metadata": {
        "colab": {
          "base_uri": "https://localhost:8080/"
        },
        "id": "fa5sz7BWU_GQ",
        "outputId": "59bee82b-93d2-4857-ba4f-0ebd0576fc39"
      },
      "outputs": [
        {
          "name": "stdout",
          "output_type": "stream",
          "text": [
            "<class '__main__.Fraction'>\n"
          ]
        }
      ],
      "source": [
        "print(type(fr1))"
      ]
    },
    {
      "cell_type": "code",
      "execution_count": 25,
      "metadata": {
        "colab": {
          "base_uri": "https://localhost:8080/"
        },
        "id": "v74ymPHMVDQX",
        "outputId": "ed20c64d-0762-4f12-b3c7-0212da9a73fb"
      },
      "outputs": [
        {
          "name": "stdout",
          "output_type": "stream",
          "text": [
            "3/4\n"
          ]
        }
      ],
      "source": [
        "print(fr1)"
      ]
    },
    {
      "cell_type": "code",
      "execution_count": null,
      "metadata": {
        "id": "7kU6uAw0WYBN"
      },
      "outputs": [],
      "source": []
    }
  ],
  "metadata": {
    "colab": {
      "provenance": []
    },
    "kernelspec": {
      "display_name": "Python 3",
      "name": "python3"
    },
    "language_info": {
      "name": "python",
      "version": "3.12.1"
    }
  },
  "nbformat": 4,
  "nbformat_minor": 0
}
